{
  "cells": [
    {
      "cell_type": "code",
      "source": [
        "pip install cohere"
      ],
      "metadata": {
        "id": "df3BzRx3RPhG"
      },
      "id": "df3BzRx3RPhG",
      "execution_count": null,
      "outputs": []
    },
    {
      "cell_type": "code",
      "source": [
        "import cohere\n",
        "co = cohere.Client(api_key=\"4aJ9yWbIrOzI2W5LZeLeIdin2AYMpkq18PffLuvi\")"
      ],
      "metadata": {
        "id": "iySR5bCkZIUJ"
      },
      "id": "iySR5bCkZIUJ",
      "execution_count": 14,
      "outputs": []
    },
    {
      "cell_type": "code",
      "source": [
        "text=\"\"\"There are several modeling studies using brain network models which incorporate biologically\n",
        "realistic macroscopic connectivity (the so-called connectome) to understand the global dynamics\n",
        "observed in the healthy and diseased brain measured by different neuroimaging modalities such as\n",
        "fMRI, EEG and MEG.\n",
        "For this particular modelling approach in Computational Neuroscience, open source frameworks\n",
        "enabling the collaboration between researchers with different backgrounds are not widely available.\n",
        "The Virtual Brain is, so far, the only neuroinformatics project filling that place.\n",
        "All projects below can be tailored for a 12-week time window, both Full-time and part-time, as the\n",
        "features/pages can be built incrementally.\n",
        "TVB has a demo dataset currently published on Zenodo.\n",
        "We use it by manually downloading it, unzip then use inside tvb code and web GUI.\n",
        "We intend to use Zenodo API instead.\n",
        "The task is mainly for part-time, if only the above feature will be used, but it can be extended if\n",
        "needed with other external datasources for Full-time applicants.\n",
        "More details here or here.\n",
        "Expected results: A set of classes , with demo Jupyter notebook, and unit tests\"\"\""
      ],
      "metadata": {
        "id": "DddFgfjTZTzD"
      },
      "id": "DddFgfjTZTzD",
      "execution_count": 15,
      "outputs": []
    },
    {
      "cell_type": "code",
      "source": [
        "prompt = f\"Tell me the impact of {text}\""
      ],
      "metadata": {
        "id": "hRVtpt5UZjs9"
      },
      "id": "hRVtpt5UZjs9",
      "execution_count": 16,
      "outputs": []
    },
    {
      "cell_type": "code",
      "source": [
        "response = co.generate(\n",
        "    model='command-nightly',\n",
        "    prompt = prompt,\n",
        "    max_tokens=200,\n",
        "    temperature=0.750)\n",
        "intro_paragraph = response.generations[0].text\n",
        ""
      ],
      "metadata": {
        "id": "YKaXLsFgZ42v"
      },
      "id": "YKaXLsFgZ42v",
      "execution_count": 17,
      "outputs": []
    },
    {
      "cell_type": "code",
      "source": [
        "intro_paragraph"
      ],
      "metadata": {
        "colab": {
          "base_uri": "https://localhost:8080/",
          "height": 70
        },
        "id": "4DyzM4YUaNGT",
        "outputId": "7e3dc469-3764-4d05-bab4-46bd9fa42c19"
      },
      "id": "4DyzM4YUaNGT",
      "execution_count": 18,
      "outputs": [
        {
          "output_type": "execute_result",
          "data": {
            "text/plain": [
              "'\\nThe impact of this project is to enable a modeling study using brain network models which incorporate biologically realistic macroscopic connectivity (the so-called connectome) to understand the global dynamics observed in the healthy and diseased brain measured by different neuroimaging modalities such as fMRI, EEG and MEG.'"
            ],
            "application/vnd.google.colaboratory.intrinsic+json": {
              "type": "string"
            }
          },
          "metadata": {},
          "execution_count": 18
        }
      ]
    }
  ],
  "metadata": {
    "kernelspec": {
      "display_name": "Python 3 (ipykernel)",
      "language": "python",
      "name": "python3"
    },
    "language_info": {
      "codemirror_mode": {
        "name": "ipython",
        "version": 3
      },
      "file_extension": ".py",
      "mimetype": "text/x-python",
      "name": "python",
      "nbconvert_exporter": "python",
      "pygments_lexer": "ipython3",
      "version": "3.9.16"
    },
    "colab": {
      "provenance": []
    }
  },
  "nbformat": 4,
  "nbformat_minor": 5
}